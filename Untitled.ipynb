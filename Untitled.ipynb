{
 "cells": [
  {
   "cell_type": "code",
   "execution_count": 12,
   "metadata": {},
   "outputs": [],
   "source": [
    "import pandas as pd\n",
    "data = pd.read_csv(\"descriptors_obligatory.csv\")"
   ]
  },
  {
   "cell_type": "code",
   "execution_count": 13,
   "metadata": {},
   "outputs": [
    {
     "name": "stdout",
     "output_type": "stream",
     "text": [
      "\\begin{tabular}{llrrrrrrrrr}\n",
      "\\toprule\n",
      "{} &                          Graph &  n\\_nodes &  n\\_edges &  min\\_degree &  max\\_degree &  av\\_degree &  clustering\\_cof &  assortativity &  av\\_path\\_length &  diameter \\\\\n",
      "\\midrule\n",
      "0 &                toy/circle9.net &        9 &        9 &           2 &           2 &     2.0000 &           0.000 &            NaN &          2.5000 &         4 \\\\\n",
      "1 &                   toy/star.net &        9 &        8 &           1 &           8 &     1.7778 &           0.000 &        -1.0000 &          1.7778 &         2 \\\\\n",
      "2 &             toy/graph3+1+3.net &        7 &        8 &           2 &           3 &     2.2857 &           0.659 &        -0.6000 &          2.1905 &         4 \\\\\n",
      "3 &             toy/grid-p-6x6.net &       36 &       72 &           4 &           4 &     4.0000 &           0.000 &            NaN &          3.0857 &         6 \\\\\n",
      "4 &  model/homorand\\_N1000\\_K4\\_0.net &     1000 &     2000 &           4 &           4 &     4.0000 &           0.002 &            NaN &          5.6400 &         9 \\\\\n",
      "5 &             model/ER1000k8.net &     1000 &     3956 &           1 &          17 &     7.9120 &           0.009 &        -0.0168 &          3.5698 &         6 \\\\\n",
      "6 &         model/SF\\_1000\\_g2.7.net &     1000 &     1668 &           2 &          24 &     3.3360 &           0.003 &        -0.0020 &          5.4688 &        12 \\\\\n",
      "7 &               model/ws1000.net &     1000 &     3000 &           3 &          13 &     6.0000 &           0.005 &        -0.0999 &          4.0913 &         6 \\\\\n",
      "8 &          real/zachary\\_unwh.net &       34 &       78 &           1 &          17 &     4.5882 &           0.598 &        -0.4756 &          2.4082 &         5 \\\\\n",
      "9 &           real/airports\\_UW.net &     3618 &    14142 &           1 &         250 &     7.8176 &           0.491 &         0.0462 &          4.4396 &        17 \\\\\n",
      "\\bottomrule\n",
      "\\end{tabular}\n",
      "\n"
     ]
    }
   ],
   "source": [
    "print(data.to_latex())"
   ]
  }
 ],
 "metadata": {
  "kernelspec": {
   "display_name": "Python 3",
   "language": "python",
   "name": "python3"
  },
  "language_info": {
   "codemirror_mode": {
    "name": "ipython",
    "version": 3
   },
   "file_extension": ".py",
   "mimetype": "text/x-python",
   "name": "python",
   "nbconvert_exporter": "python",
   "pygments_lexer": "ipython3",
   "version": "3.7.6"
  }
 },
 "nbformat": 4,
 "nbformat_minor": 4
}
